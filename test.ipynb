{
 "cells": [
  {
   "cell_type": "code",
   "execution_count": 1,
   "metadata": {},
   "outputs": [],
   "source": [
    "import dofusdude"
   ]
  },
  {
   "cell_type": "code",
   "execution_count": 12,
   "metadata": {},
   "outputs": [],
   "source": [
    "from dofusdude.models.items_list_paged import ItemsListPaged\n"
   ]
  },
  {
   "cell_type": "code",
   "execution_count": 2,
   "metadata": {},
   "outputs": [
    {
     "data": {
      "text/plain": [
       "['AlmanaxApi',\n",
       " 'AlmanaxEntry',\n",
       " 'AlmanaxEntryBonus',\n",
       " 'AlmanaxEntryTribute',\n",
       " 'AlmanaxEntryTributeItem',\n",
       " 'AlmanaxWebhook',\n",
       " 'AlmanaxWebhookDailySettings',\n",
       " 'ApiAttributeError',\n",
       " 'ApiClient',\n",
       " 'ApiException',\n",
       " 'ApiKeyError',\n",
       " 'ApiResponse',\n",
       " 'ApiTypeError',\n",
       " 'ApiValueError',\n",
       " 'ConditionEntry',\n",
       " 'ConditionTreeLeaf',\n",
       " 'ConditionTreeNode',\n",
       " 'ConditionTreeRelation',\n",
       " 'Configuration',\n",
       " 'ConsumablesApi',\n",
       " 'Cosmetic',\n",
       " 'CosmeticType',\n",
       " 'CosmeticsApi',\n",
       " 'CreateAlmanaxWebhook',\n",
       " 'CreateAlmanaxWebhookDailySettings',\n",
       " 'CreateAlmanaxWebhookMentionsValueInner',\n",
       " 'CreateRSSWebhook',\n",
       " 'CreateTwitterWebhook',\n",
       " 'EffectsEntry',\n",
       " 'Equipment',\n",
       " 'EquipmentApi',\n",
       " 'EquipmentSet',\n",
       " 'GameApi',\n",
       " 'GetGameSearch200ResponseInner',\n",
       " 'GetMetaAlmanaxBonuses200ResponseInner',\n",
       " 'GetMetaWebhooksTwitter200Response',\n",
       " 'ImageUrls',\n",
       " 'ItemListEntry',\n",
       " 'ItemListEntryParentSet',\n",
       " 'ItemListEntryRange',\n",
       " 'ItemsListEntryTyped',\n",
       " 'ItemsListEntryTypedType',\n",
       " 'ItemsListPaged',\n",
       " 'LinksPaged',\n",
       " 'MetaApi',\n",
       " 'Mount',\n",
       " 'MountListEntry',\n",
       " 'MountsApi',\n",
       " 'MountsListPaged',\n",
       " 'OpenApiException',\n",
       " 'PutAlmanaxWebhook',\n",
       " 'PutRSSWebhook',\n",
       " 'PutTwitterWebhook',\n",
       " 'QuestItemsApi',\n",
       " 'RecipeEntry',\n",
       " 'Resource',\n",
       " 'ResourcesApi',\n",
       " 'RssWebhook',\n",
       " 'SetEffectsEntry',\n",
       " 'SetEffectsEntryType',\n",
       " 'SetListEntry',\n",
       " 'SetsApi',\n",
       " 'SetsListPaged',\n",
       " 'TwitterWebhook',\n",
       " 'Weapon',\n",
       " 'WeaponRange',\n",
       " 'WebhooksApi',\n",
       " '__builtins__',\n",
       " '__cached__',\n",
       " '__doc__',\n",
       " '__file__',\n",
       " '__loader__',\n",
       " '__name__',\n",
       " '__package__',\n",
       " '__path__',\n",
       " '__spec__',\n",
       " '__version__',\n",
       " 'api',\n",
       " 'api_client',\n",
       " 'api_response',\n",
       " 'configuration',\n",
       " 'exceptions',\n",
       " 'models',\n",
       " 'rest']"
      ]
     },
     "execution_count": 2,
     "metadata": {},
     "output_type": "execute_result"
    }
   ],
   "source": [
    "dir(dofusdude)"
   ]
  },
  {
   "cell_type": "code",
   "execution_count": 22,
   "metadata": {},
   "outputs": [],
   "source": [
    "configuration = dofusdude.Configuration(host=\"https://api.dofusdu.de\")\n",
    "\n",
    "with dofusdude.ApiClient(configuration) as api_client:\n",
    "    api_instance = dofusdude.EquipmentApi(api_client)\n",
    "\n",
    "    language = \"fr\"  # str | a valid language code\n",
    "    game = \"dofus2\"  # str |\n",
    "\n",
    "    data = api_instance.get_items_equipment_list(language, game)\n",
    "\n",
    "\n",
    "    data = data\n"
   ]
  },
  {
   "cell_type": "markdown",
   "metadata": {},
   "source": []
  },
  {
   "cell_type": "code",
   "execution_count": 26,
   "metadata": {},
   "outputs": [
    {
     "data": {
      "text/plain": [
       "'{\"_links\": {\"first\": \"https://api.dofusdu.de/dofus2/fr/items/equipment?page%5Bnumber%5D%3D1%26page%5Bsize%5D%3D16\", \"next\": \"https://api.dofusdu.de/dofus2/fr/items/equipment?page%5Bnumber%5D%3D2%26page%5Bsize%5D%3D16\", \"last\": \"https://api.dofusdu.de/dofus2/fr/items/equipment?page%5Bnumber%5D%3D245%26page%5Bsize%5D%3D16\", \"prev\": null}, \"items\": [{\"ankama_id\": 44, \"name\": \"\\\\u00c9p\\\\u00e9e de Boisaille\", \"type\": {\"name\": \"\\\\u00c9p\\\\u00e9e\", \"id\": 80}, \"level\": 7, \"image_urls\": {\"icon\": \"https://api.dofusdu.de/dofus2/img/item/6007.png\", \"sd\": \"https://api.dofusdu.de/dofus2/img/item/6007-200.png\", \"hq\": \"https://api.dofusdu.de/dofus2/img/item/6007-400.png\", \"hd\": \"https://api.dofusdu.de/dofus2/img/item/6007-800.png\"}, \"recipe\": null, \"description\": null, \"conditions\": null, \"effects\": null, \"is_weapon\": null, \"pods\": null, \"parent_set\": null, \"critical_hit_probability\": null, \"critical_hit_bonus\": null, \"is_two_handed\": null, \"max_cast_per_turn\": null, \"ap_cost\": null, \"range\": null}, {\"ankama_id\": 49, \"name\": \"\\\\u00c9p\\\\u00e9e de Fouraille\", \"type\": {\"name\": \"\\\\u00c9p\\\\u00e9e\", \"id\": 80}, \"level\": 15, \"image_urls\": {\"icon\": \"https://api.dofusdu.de/dofus2/img/item/6002.png\", \"sd\": \"https://api.dofusdu.de/dofus2/img/item/6002-200.png\", \"hq\": \"https://api.dofusdu.de/dofus2/img/item/6002-400.png\", \"hd\": \"https://api.dofusdu.de/dofus2/img/item/6002-800.png\"}, \"recipe\": null, \"description\": null, \"conditions\": null, \"effects\": null, \"is_weapon\": null, \"pods\": null, \"parent_set\": null, \"critical_hit_probability\": null, \"critical_hit_bonus\": null, \"is_two_handed\": null, \"max_cast_per_turn\": null, \"ap_cost\": null, \"range\": null}, {\"ankama_id\": 55, \"name\": \"\\\\u00c9p\\\\u00e9e d\\'Alle\", \"type\": {\"name\": \"\\\\u00c9p\\\\u00e9e\", \"id\": 80}, \"level\": 26, \"image_urls\": {\"icon\": \"https://api.dofusdu.de/dofus2/img/item/6001.png\", \"sd\": \"https://api.dofusdu.de/dofus2/img/item/6001-200.png\", \"hq\": \"https://api.dofusdu.de/dofus2/img/item/6001-400.png\", \"hd\": \"https://api.dofusdu.de/dofus2/img/item/6001-800.png\"}, \"recipe\": null, \"description\": null, \"conditions\": null, \"effects\": null, \"is_weapon\": null, \"pods\": null, \"parent_set\": null, \"critical_hit_probability\": null, \"critical_hit_bonus\": null, \"is_two_handed\": null, \"max_cast_per_turn\": null, \"ap_cost\": null, \"range\": null}, {\"ankama_id\": 58, \"name\": \"La Triste Lame\", \"type\": {\"name\": \"\\\\u00c9p\\\\u00e9e\", \"id\": 80}, \"level\": 21, \"image_urls\": {\"icon\": \"https://api.dofusdu.de/dofus2/img/item/6005.png\", \"sd\": \"https://api.dofusdu.de/dofus2/img/item/6005-200.png\", \"hq\": \"https://api.dofusdu.de/dofus2/img/item/6005-400.png\", \"hd\": \"https://api.dofusdu.de/dofus2/img/item/6005-800.png\"}, \"recipe\": null, \"description\": null, \"conditions\": null, \"effects\": null, \"is_weapon\": null, \"pods\": null, \"parent_set\": null, \"critical_hit_probability\": null, \"critical_hit_bonus\": null, \"is_two_handed\": null, \"max_cast_per_turn\": null, \"ap_cost\": null, \"range\": null}, {\"ankama_id\": 62, \"name\": \"\\\\u00c9p\\\\u00e9e d\\'Ha\", \"type\": {\"name\": \"\\\\u00c9p\\\\u00e9e\", \"id\": 80}, \"level\": 17, \"image_urls\": {\"icon\": \"https://api.dofusdu.de/dofus2/img/item/6006.png\", \"sd\": \"https://api.dofusdu.de/dofus2/img/item/6006-200.png\", \"hq\": \"https://api.dofusdu.de/dofus2/img/item/6006-400.png\", \"hd\": \"https://api.dofusdu.de/dofus2/img/item/6006-800.png\"}, \"recipe\": null, \"description\": null, \"conditions\": null, \"effects\": null, \"is_weapon\": null, \"pods\": null, \"parent_set\": null, \"critical_hit_probability\": null, \"critical_hit_bonus\": null, \"is_two_handed\": null, \"max_cast_per_turn\": null, \"ap_cost\": null, \"range\": null}, {\"ankama_id\": 65, \"name\": \"Goultard\", \"type\": {\"name\": \"\\\\u00c9p\\\\u00e9e\", \"id\": 80}, \"level\": 40, \"image_urls\": {\"icon\": \"https://api.dofusdu.de/dofus2/img/item/6017.png\", \"sd\": \"https://api.dofusdu.de/dofus2/img/item/6017-200.png\", \"hq\": \"https://api.dofusdu.de/dofus2/img/item/6017-400.png\", \"hd\": \"https://api.dofusdu.de/dofus2/img/item/6017-800.png\"}, \"recipe\": null, \"description\": null, \"conditions\": null, \"effects\": null, \"is_weapon\": null, \"pods\": null, \"parent_set\": null, \"critical_hit_probability\": null, \"critical_hit_bonus\": null, \"is_two_handed\": null, \"max_cast_per_turn\": null, \"ap_cost\": null, \"range\": null}, {\"ankama_id\": 66, \"name\": \"La crini\\\\u00e8re de Badoul\", \"type\": {\"name\": \"\\\\u00c9p\\\\u00e9e\", \"id\": 80}, \"level\": 33, \"image_urls\": {\"icon\": \"https://api.dofusdu.de/dofus2/img/item/6011.png\", \"sd\": \"https://api.dofusdu.de/dofus2/img/item/6011-200.png\", \"hq\": \"https://api.dofusdu.de/dofus2/img/item/6011-400.png\", \"hd\": \"https://api.dofusdu.de/dofus2/img/item/6011-800.png\"}, \"recipe\": null, \"description\": null, \"conditions\": null, \"effects\": null, \"is_weapon\": null, \"pods\": null, \"parent_set\": null, \"critical_hit_probability\": null, \"critical_hit_bonus\": null, \"is_two_handed\": null, \"max_cast_per_turn\": null, \"ap_cost\": null, \"range\": null}, {\"ankama_id\": 67, \"name\": \"Le Tranchant Infernal\", \"type\": {\"name\": \"\\\\u00c9p\\\\u00e9e\", \"id\": 80}, \"level\": 22, \"image_urls\": {\"icon\": \"https://api.dofusdu.de/dofus2/img/item/6013.png\", \"sd\": \"https://api.dofusdu.de/dofus2/img/item/6013-200.png\", \"hq\": \"https://api.dofusdu.de/dofus2/img/item/6013-400.png\", \"hd\": \"https://api.dofusdu.de/dofus2/img/item/6013-800.png\"}, \"recipe\": null, \"description\": null, \"conditions\": null, \"effects\": null, \"is_weapon\": null, \"pods\": null, \"parent_set\": null, \"critical_hit_probability\": null, \"critical_hit_bonus\": null, \"is_two_handed\": null, \"max_cast_per_turn\": null, \"ap_cost\": null, \"range\": null}, {\"ankama_id\": 70, \"name\": \"Amulette du Hibou\", \"type\": {\"name\": \"Amulette\", \"id\": 33}, \"level\": 8, \"image_urls\": {\"icon\": \"https://api.dofusdu.de/dofus2/img/item/1001.png\", \"sd\": \"https://api.dofusdu.de/dofus2/img/item/1001-200.png\", \"hq\": \"https://api.dofusdu.de/dofus2/img/item/1001-400.png\", \"hd\": \"https://api.dofusdu.de/dofus2/img/item/1001-800.png\"}, \"recipe\": null, \"description\": null, \"conditions\": null, \"effects\": null, \"is_weapon\": null, \"pods\": null, \"parent_set\": null, \"critical_hit_probability\": null, \"critical_hit_bonus\": null, \"is_two_handed\": null, \"max_cast_per_turn\": null, \"ap_cost\": null, \"range\": null}, {\"ankama_id\": 77, \"name\": \"Amulette de l\\'Ours\", \"type\": {\"name\": \"Amulette\", \"id\": 33}, \"level\": 8, \"image_urls\": {\"icon\": \"https://api.dofusdu.de/dofus2/img/item/1005.png\", \"sd\": \"https://api.dofusdu.de/dofus2/img/item/1005-200.png\", \"hq\": \"https://api.dofusdu.de/dofus2/img/item/1005-400.png\", \"hd\": \"https://api.dofusdu.de/dofus2/img/item/1005-800.png\"}, \"recipe\": null, \"description\": null, \"conditions\": null, \"effects\": null, \"is_weapon\": null, \"pods\": null, \"parent_set\": null, \"critical_hit_probability\": null, \"critical_hit_bonus\": null, \"is_two_handed\": null, \"max_cast_per_turn\": null, \"ap_cost\": null, \"range\": null}, {\"ankama_id\": 84, \"name\": \"Amulette du Mulou\", \"type\": {\"name\": \"Amulette\", \"id\": 33}, \"level\": 8, \"image_urls\": {\"icon\": \"https://api.dofusdu.de/dofus2/img/item/1006.png\", \"sd\": \"https://api.dofusdu.de/dofus2/img/item/1006-200.png\", \"hq\": \"https://api.dofusdu.de/dofus2/img/item/1006-400.png\", \"hd\": \"https://api.dofusdu.de/dofus2/img/item/1006-800.png\"}, \"recipe\": null, \"description\": null, \"conditions\": null, \"effects\": null, \"is_weapon\": null, \"pods\": null, \"parent_set\": null, \"critical_hit_probability\": null, \"critical_hit_bonus\": null, \"is_two_handed\": null, \"max_cast_per_turn\": null, \"ap_cost\": null, \"range\": null}, {\"ankama_id\": 91, \"name\": \"Arc de Boisaille\", \"type\": {\"name\": \"Arc\", \"id\": 39}, \"level\": 7, \"image_urls\": {\"icon\": \"https://api.dofusdu.de/dofus2/img/item/2001.png\", \"sd\": \"https://api.dofusdu.de/dofus2/img/item/2001-200.png\", \"hq\": \"https://api.dofusdu.de/dofus2/img/item/2001-400.png\", \"hd\": \"https://api.dofusdu.de/dofus2/img/item/2001-800.png\"}, \"recipe\": null, \"description\": null, \"conditions\": null, \"effects\": null, \"is_weapon\": null, \"pods\": null, \"parent_set\": null, \"critical_hit_probability\": null, \"critical_hit_bonus\": null, \"is_two_handed\": null, \"max_cast_per_turn\": null, \"ap_cost\": null, \"range\": null}, {\"ankama_id\": 97, \"name\": \"Dagues de Boisaille\", \"type\": {\"name\": \"Dague\", \"id\": 93}, \"level\": 7, \"image_urls\": {\"icon\": \"https://api.dofusdu.de/dofus2/img/item/5010.png\", \"sd\": \"https://api.dofusdu.de/dofus2/img/item/5010-200.png\", \"hq\": \"https://api.dofusdu.de/dofus2/img/item/5010-400.png\", \"hd\": \"https://api.dofusdu.de/dofus2/img/item/5010-800.png\"}, \"recipe\": null, \"description\": null, \"conditions\": null, \"effects\": null, \"is_weapon\": null, \"pods\": null, \"parent_set\": null, \"critical_hit_probability\": null, \"critical_hit_bonus\": null, \"is_two_handed\": null, \"max_cast_per_turn\": null, \"ap_cost\": null, \"range\": null}, {\"ankama_id\": 103, \"name\": \"Anneau de Sagesse\", \"type\": {\"name\": \"Anneau\", \"id\": 17}, \"level\": 9, \"image_urls\": {\"icon\": \"https://api.dofusdu.de/dofus2/img/item/9007.png\", \"sd\": \"https://api.dofusdu.de/dofus2/img/item/9007-200.png\", \"hq\": \"https://api.dofusdu.de/dofus2/img/item/9007-400.png\", \"hd\": \"https://api.dofusdu.de/dofus2/img/item/9007-800.png\"}, \"recipe\": null, \"description\": null, \"conditions\": null, \"effects\": null, \"is_weapon\": null, \"pods\": null, \"parent_set\": null, \"critical_hit_probability\": null, \"critical_hit_bonus\": null, \"is_two_handed\": null, \"max_cast_per_turn\": null, \"ap_cost\": null, \"range\": null}, {\"ankama_id\": 112, \"name\": \"Anneau de Chance\", \"type\": {\"name\": \"Anneau\", \"id\": 17}, \"level\": 9, \"image_urls\": {\"icon\": \"https://api.dofusdu.de/dofus2/img/item/9009.png\", \"sd\": \"https://api.dofusdu.de/dofus2/img/item/9009-200.png\", \"hq\": \"https://api.dofusdu.de/dofus2/img/item/9009-400.png\", \"hd\": \"https://api.dofusdu.de/dofus2/img/item/9009-800.png\"}, \"recipe\": null, \"description\": null, \"conditions\": null, \"effects\": null, \"is_weapon\": null, \"pods\": null, \"parent_set\": null, \"critical_hit_probability\": null, \"critical_hit_bonus\": null, \"is_two_handed\": null, \"max_cast_per_turn\": null, \"ap_cost\": null, \"range\": null}, {\"ankama_id\": 121, \"name\": \"Anneau d\\'Agilit\\\\u00e9\", \"type\": {\"name\": \"Anneau\", \"id\": 17}, \"level\": 9, \"image_urls\": {\"icon\": \"https://api.dofusdu.de/dofus2/img/item/9001.png\", \"sd\": \"https://api.dofusdu.de/dofus2/img/item/9001-200.png\", \"hq\": \"https://api.dofusdu.de/dofus2/img/item/9001-400.png\", \"hd\": \"https://api.dofusdu.de/dofus2/img/item/9001-800.png\"}, \"recipe\": null, \"description\": null, \"conditions\": null, \"effects\": null, \"is_weapon\": null, \"pods\": null, \"parent_set\": null, \"critical_hit_probability\": null, \"critical_hit_bonus\": null, \"is_two_handed\": null, \"max_cast_per_turn\": null, \"ap_cost\": null, \"range\": null}]}'"
      ]
     },
     "execution_count": 26,
     "metadata": {},
     "output_type": "execute_result"
    }
   ],
   "source": [
    "ItemsListPaged.to_json(data)\n"
   ]
  }
 ],
 "metadata": {
  "kernelspec": {
   "display_name": "dofusTrade",
   "language": "python",
   "name": "python3"
  },
  "language_info": {
   "codemirror_mode": {
    "name": "ipython",
    "version": 3
   },
   "file_extension": ".py",
   "mimetype": "text/x-python",
   "name": "python",
   "nbconvert_exporter": "python",
   "pygments_lexer": "ipython3",
   "version": "3.11.3"
  }
 },
 "nbformat": 4,
 "nbformat_minor": 2
}
